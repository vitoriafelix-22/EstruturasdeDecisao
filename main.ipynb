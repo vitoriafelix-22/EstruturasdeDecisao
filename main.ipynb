{
  "nbformat": 4,
  "nbformat_minor": 0,
  "metadata": {
    "colab": {
      "provenance": [],
      "authorship_tag": "ABX9TyOgApEkmgRq6xcoHNVWgoVV",
      "include_colab_link": true
    },
    "kernelspec": {
      "name": "python3",
      "display_name": "Python 3"
    },
    "language_info": {
      "name": "python"
    }
  },
  "cells": [
    {
      "cell_type": "markdown",
      "metadata": {
        "id": "view-in-github",
        "colab_type": "text"
      },
      "source": [
        "<a href=\"https://colab.research.google.com/github/vitoriafelix-22/EstruturasdeDecisao/blob/main/main.ipynb\" target=\"_parent\"><img src=\"https://colab.research.google.com/assets/colab-badge.svg\" alt=\"Open In Colab\"/></a>"
      ]
    },
    {
      "cell_type": "code",
      "execution_count": 2,
      "metadata": {
        "id": "iuCgQ1UatjBB"
      },
      "outputs": [],
      "source": []
    },
    {
      "cell_type": "code",
      "source": [
        "class Animal():\n",
        "        def __init__(self, nome, peso):\n",
        "          self.__nome = nome\n",
        "          self.__peso = peso\n",
        "        def __str__(self):\n",
        "            return 'Nome: %s \\nPeso: %f' % (self.__nome, self.peso)\n",
        "        def __gt__(self, other):\n",
        "            return self.__peso > other.__peso\n",
        "        def __add__(self, other):\n",
        "          return Animal(self.__nome + ', ' + other.__nome, self.__peso + other.__peso)\n",
        "          \n",
        "        def alimentar(self, comida):\n",
        "              self.peso += comida\n",
        "        \n",
        "        @property\n",
        "        def nome(self):\n",
        "                return self.__nome\n",
        "        @nome.setter\n",
        "        def nome(self, new_name):\n",
        "                  if type(new_name) == type(str()):\n",
        "                          self.__nome = new_name\n",
        "\n",
        "# Polimorfismo - Code 2 desenvolva o restante no desafio...\n",
        "from main import Animal\n",
        "class Mamifero(Animal): \n",
        "    def __init__(self, pelos, glandulas_mamarias, vertebrado, carnivoro):\n",
        "        self.__nome = pelos\n",
        "        self.__glandulas = glandulas_mamarias\n",
        "        self.__vertebrado = vertebrado\n",
        "        self.__carnivoro = carnivoro\n",
        "        def __str__(self):  \n",
        "        # return 'Pelos: %s \\nGrandulas Mamarias %s \\nVertebrado: %s \\nCarnivoro: %s Peso: %f ' (self.__carnivoro, self.__pelos, self.__glandulas_mamarias, self.__vertebrado)\n",
        "        class Repteis(Animal):\n",
        "    def __init__(self, glandulas, escamas, placas_osseas):\n",
        "        self.__glandulas = glandulas\n",
        "        self.__escamas = escamas\n",
        "        self.__placas_osseas= placas_osseas\n",
        "        def __str__(self):  \n",
        "      return 'glandulas: %s \\nPlacas_osseas: %s \\nEscamas:' (self.__glandulas, self.__Placas_osseas, self.__Escamas)\n",
        "\n",
        "class Reptil(Animal):\n",
        "    def __init__(self, nome, peso, tipo_pele):\n",
        "        super().__init__(nome, peso)\n",
        "        self.tipo_pele = tipo_pele\n",
        "\n",
        "    def rastejar(self):\n",
        "        print('Rastejando...')\n",
        "\n",
        "    def __str__(self):\n",
        "        return super().__str__() + '\\nEspecie: ' + self.especie + '\\nTipo de pele: ' + self.tipo_pele\n",
        "\n",
        "        class Peixe(Animal):\n",
        "    def __init__(self, nome, peso, tipo_agua):\n",
        "        super().__init__(nome, peso)\n",
        "        self.tipo_agua = tipo_agua\n",
        "\n",
        "    def nadar(self):\n",
        "        print('Nadando...')\n",
        "\n",
        "    def __str__(self):\n",
        "        return super().__str__() + '\\nEspecie: ' + self.especie + '\\nTipo de água: ' + self.tipo_agua\n",
        "\n",
        "        class Ave(Animal):\n",
        "    def __init__(self, nome, peso, envergadura):\n",
        "        super().__init__(nome, peso)\n",
        "        self.envergadura = envergadura\n",
        "\n",
        "    def voar(self):\n",
        "        print('Voando...')\n",
        "\n",
        "    def __str__(self):\n",
        "        return super().__str__() + '\\nEspecie: ' + self.especie + '\\nEnvergadura: ' + str(self.envergadura)\n",
        "\n",
        "        class Anfibio(Animal):\n",
        "    def __init__(self, nome, peso, tipo_pele):\n",
        "        super().__init__(nome, peso)\n",
        "        self.tipo_pele = tipo_pele\n",
        "\n",
        "    def nadar(self):\n",
        "        print('Nadando...')\n",
        "\n",
        "    def pular(self):\n",
        "        print('Pulando...')\n",
        "\n",
        "    def __str__(self):\n",
        "        return super().__str__() + '\\nEspecie: ' + self.especie + '\\nTipo de pele: ' + self.tipo_pele"
      ],
      "metadata": {
        "id": "ucRELUt3tkrb"
      },
      "execution_count": null,
      "outputs": []
    },
    {
      "cell_type": "code",
      "source": [],
      "metadata": {
        "id": "bBm_K2Qg9W-A"
      },
      "execution_count": null,
      "outputs": []
    },
    {
      "cell_type": "code",
      "source": [
        "\n",
        "\n"
      ],
      "metadata": {
        "id": "3FcP7sN-tzip"
      },
      "execution_count": 11,
      "outputs": []
    },
    {
      "cell_type": "code",
      "source": [],
      "metadata": {
        "id": "O7ZVaeSnwpXa"
      },
      "execution_count": null,
      "outputs": []
    }
  ]
}